{
  "nbformat": 4,
  "nbformat_minor": 0,
  "metadata": {
    "colab": {
      "name": "DCGAN.ipynb",
      "provenance": [],
      "authorship_tag": "ABX9TyNlRXBkfKgO5+TvyuE16jQ8",
      "include_colab_link": true
    },
    "kernelspec": {
      "name": "python3",
      "display_name": "Python 3"
    },
    "language_info": {
      "name": "python"
    },
    "accelerator": "GPU"
  },
  "cells": [
    {
      "cell_type": "markdown",
      "metadata": {
        "id": "view-in-github",
        "colab_type": "text"
      },
      "source": [
        "<a href=\"https://colab.research.google.com/github/johncoder-30/Gan_pytorch/blob/main/DCGAN.ipynb\" target=\"_parent\"><img src=\"https://colab.research.google.com/assets/colab-badge.svg\" alt=\"Open In Colab\"/></a>"
      ]
    },
    {
      "cell_type": "code",
      "execution_count": 1,
      "metadata": {
        "id": "ZTuAILM7h1nP"
      },
      "outputs": [],
      "source": [
        "import torch\n",
        "import torch.nn as nn\n",
        "import torch.optim as optim\n",
        "import torchvision.datasets as datasets\n",
        "from torchvision import datasets, transforms\n",
        "from torch.utils.data import DataLoader\n",
        "from torch.utils.tensorboard import SummaryWriter"
      ]
    },
    {
      "cell_type": "code",
      "source": [
        "class Discriminator(nn.Module):\n",
        "    def __init__(self, channels_img, features_d):\n",
        "        super(Discriminator, self).__init__()\n",
        "        self.disc = nn.Sequential(#1x28x28\n",
        "            nn.Conv2d(channels_img, features_d, kernel_size=(4, 4), stride=(2, 2), padding=1),#64x14x14\n",
        "            nn.LeakyReLU(0.2),\n",
        "            self._block(features_d, features_d * 2, 4, 2, 1),#128x7x7\n",
        "            self._block(features_d * 2, features_d * 4, 4, 2, 1),#256x4x4\n",
        "            self._block(features_d * 4, features_d * 8, 4, 2, 1),#512x2x2\n",
        "            nn.Conv2d(features_d * 8, 1, kernel_size=(4, 4), stride=(2, 2), padding=0),#1024x1x1\n",
        "            nn.Sigmoid()\n",
        "        )\n",
        "\n",
        "    def _block(self, in_channels, out_channels, kernel, stride, padding):\n",
        "        return nn.Sequential(\n",
        "            nn.Conv2d(in_channels, out_channels, kernel, stride, padding, bias=False),\n",
        "            # Hout=[(Hin+2P-k)/s]+1\n",
        "            nn.BatchNorm2d(out_channels),\n",
        "            nn.LeakyReLU(0.2)\n",
        "        )\n",
        "\n",
        "    def forward(self, x):\n",
        "        return self.disc(x)\n",
        "\n",
        "\n",
        "class Generator(nn.Module):\n",
        "    def __init__(self, z_dim, channels_img, features_g):\n",
        "        super(Generator, self).__init__()\n",
        "        self.gen = nn.Sequential(#100x1x1\n",
        "            self._block(z_dim, features_g * 16, 4, 1, 0),#1024x2x2\n",
        "            self._block(features_g * 16, features_g * 8, 4, 2, 1),#512x4x4\n",
        "            self._block(features_g * 8, features_g * 4, 4, 2, 1),#256x7x7\n",
        "            self._block(features_g * 4, features_g * 2, 4, 2, 1),#128x14x14\n",
        "            nn.ConvTranspose2d(features_g * 2, channels_img, kernel_size=(4, 4), stride=(2, 2), padding=(1, 1)),#1x28x28\n",
        "            nn.Tanh()\n",
        "        )\n",
        "\n",
        "    def _block(self, in_channels, out_channels, kernal_size, stride, padding):\n",
        "        return nn.Sequential(nn.ConvTranspose2d(in_channels, out_channels, kernal_size, stride, padding, bias=False),\n",
        "                             nn.BatchNorm2d(out_channels),\n",
        "                             nn.ReLU())\n",
        "\n",
        "    def forward(self, x):\n",
        "        return self.gen(x)\n",
        "\n",
        "\n",
        "def initial_weights(model):\n",
        "    for m in model.modules():\n",
        "        if isinstance(m, (nn.Conv2d, nn.ConvTranspose2d, nn.BatchNorm2d)):\n",
        "            nn.init.normal_(m.weight.data, 0.0, 0.02)\n",
        "\n",
        "learning_rate = 2e-4\n",
        "batch_size = 128\n",
        "image_size = 64\n",
        "channels_img = 1\n",
        "z_dim = 100\n",
        "num_epochs = 50\n",
        "features_disc = 64\n",
        "features_gen = 64\n",
        "device = torch.device('cuda' if torch.cuda.is_available() else 'cpu')\n",
        "transform = transforms.Compose([transforms.Resize(image_size), transforms.ToTensor(),\n",
        "                                transforms.Normalize([0.5 for _ in range(channels_img)],\n",
        "                                                     [0.5 for _ in range(channels_img)]),\n",
        "                                ])\n",
        "dataset = datasets.MNIST(root='./data', train=True, transform=transform, download=True)\n",
        "loader = DataLoader(dataset, batch_size=batch_size, shuffle=True)"
      ],
      "metadata": {
        "id": "vjvbKVugnZBn"
      },
      "execution_count": null,
      "outputs": []
    },
    {
      "cell_type": "code",
      "source": [
        "gen = Generator(z_dim, channels_img, features_gen).to(device)\n",
        "disc = Discriminator(channels_img, features_disc).to(device)\n",
        "initial_weights(gen)\n",
        "initial_weights(disc)\n",
        "# print(gen)\n",
        "# print(disc)\n",
        "opt_gen = optim.Adam(gen.parameters(), lr=learning_rate, betas=(0.5, 0.999))\n",
        "opt_disc = optim.Adam(disc.parameters(), lr=learning_rate, betas=(0.5, 0.999))\n",
        "criterion = nn.BCELoss()\n",
        "\n",
        "fixed_noise = torch.randn(128, z_dim, 1, 1).to(device)\n",
        "# writer_real = SummaryWriter(f\"logs/real\")\n",
        "# writer_fake = SummaryWriter(f\"logs/fake\")\n",
        "step = 0\n",
        "\n",
        "gen.train()\n",
        "disc.train()"
      ],
      "metadata": {
        "id": "p0hSFyBu6tfP"
      },
      "execution_count": null,
      "outputs": []
    },
    {
      "cell_type": "code",
      "source": [
        "for epoch in range(num_epochs):\n",
        "    for batch_idx, (real, _) in enumerate(loader):\n",
        "        real = real.to(device)\n",
        "        noise = torch.randn((batch_size, z_dim, 1, 1)).to(device)\n",
        "        disc_real = disc(real).reshape(-1)\n",
        "        # print(real.shape)\n",
        "        fake = gen(noise)\n",
        "        # print(fake.shape)\n",
        "\n",
        "        disc_fake = disc(fake).reshape(-1)\n",
        "        loss_disc_real = criterion(disc_real, torch.ones_like(disc_real))\n",
        "        loss_disc_fake = criterion(disc_fake, torch.zeros_like(disc_fake))\n",
        "        loss_disc = (loss_disc_fake + loss_disc_real) / 2\n",
        "        opt_disc.zero_grad()\n",
        "        loss_disc.backward(retain_graph=True)\n",
        "        opt_disc.step()\n",
        "\n",
        "        output = disc(fake).reshape(-1)\n",
        "        loss_gen = criterion(output, torch.ones_like(output))\n",
        "        gen.zero_grad()\n",
        "        loss_gen.backward()\n",
        "        opt_gen.step()\n",
        "    if epoch % 10 == 0:\n",
        "        print(f'loss generator={loss_gen.item()}')\n",
        "        print(f'loss discriminator={loss_disc.item()}')\n",
        "    "
      ],
      "metadata": {
        "id": "mjeOfCv5PF45"
      },
      "execution_count": null,
      "outputs": []
    },
    {
      "cell_type": "code",
      "source": [
        "import matplotlib.pyplot as plt\n",
        "z_dim=torch.randn((2,100,1,1)).to('cuda')\n",
        "fake=gen(z_dim)\n",
        "plt.imshow(fake[0][0].detach().cpu().numpy())\n",
        "plt.show()"
      ],
      "metadata": {
        "colab": {
          "base_uri": "https://localhost:8080/",
          "height": 268
        },
        "id": "AgaDwqrNjOc5",
        "outputId": "3c07789d-06b9-49ec-9b80-a0c2e3eac662"
      },
      "execution_count": 19,
      "outputs": [
        {
          "output_type": "display_data",
          "data": {
            "text/plain": [
              "<Figure size 432x288 with 1 Axes>"
            ],
            "image/png": "[encoded data removed]"
          },
          "metadata": {
            "needs_background": "light"
          }
        }
      ]
    },
    {
      "cell_type": "code",
      "source": [
        "torch.save(disc.state_dict(),'/content/disc.pth')\n",
        "torch.save(gen.state_dict(),'/content/gen.pth')\n"
      ],
      "metadata": {
        "id": "0gNdr4Aso3r4"
      },
      "execution_count": 20,
      "outputs": []
    },
    {
      "cell_type": "code",
      "source": [
        "# from google.colab import drive\n",
        "# drive.mount('/content/gdrive')\n",
        "\n",
        "torch.save({gen:gen.state_dict(),disc:disc.state_dict()},'/content/gdrive/My Drive/pytorch_models/dcgan.pth')"
      ],
      "metadata": {
        "id": "EFL9p1txwc9K"
      },
      "execution_count": 22,
      "outputs": []
    }
  ]
}